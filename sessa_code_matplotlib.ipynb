{
 "cells": [
  {
   "cell_type": "markdown",
   "metadata": {},
   "source": [
    "## Observations and Insights"
   ]
  },
  {
   "cell_type": "markdown",
   "metadata": {},
   "source": []
  },
  {
   "cell_type": "markdown",
   "metadata": {},
   "source": [
    "## Dependencies and starter code"
   ]
  },
  {
   "cell_type": "code",
   "execution_count": 1,
   "metadata": {},
   "outputs": [
    {
     "data": {
      "text/html": [
       "<div>\n",
       "<style scoped>\n",
       "    .dataframe tbody tr th:only-of-type {\n",
       "        vertical-align: middle;\n",
       "    }\n",
       "\n",
       "    .dataframe tbody tr th {\n",
       "        vertical-align: top;\n",
       "    }\n",
       "\n",
       "    .dataframe thead th {\n",
       "        text-align: right;\n",
       "    }\n",
       "</style>\n",
       "<table border=\"1\" class=\"dataframe\">\n",
       "  <thead>\n",
       "    <tr style=\"text-align: right;\">\n",
       "      <th></th>\n",
       "      <th>Mouse ID</th>\n",
       "      <th>Drug Regimen</th>\n",
       "      <th>Sex</th>\n",
       "      <th>Age_months</th>\n",
       "      <th>Weight (g)</th>\n",
       "      <th>Timepoint</th>\n",
       "      <th>Tumor Volume (mm3)</th>\n",
       "      <th>Metastatic Sites</th>\n",
       "    </tr>\n",
       "  </thead>\n",
       "  <tbody>\n",
       "    <tr>\n",
       "      <td>0</td>\n",
       "      <td>k403</td>\n",
       "      <td>Ramicane</td>\n",
       "      <td>Male</td>\n",
       "      <td>21</td>\n",
       "      <td>16</td>\n",
       "      <td>0</td>\n",
       "      <td>45.000000</td>\n",
       "      <td>0</td>\n",
       "    </tr>\n",
       "    <tr>\n",
       "      <td>1</td>\n",
       "      <td>k403</td>\n",
       "      <td>Ramicane</td>\n",
       "      <td>Male</td>\n",
       "      <td>21</td>\n",
       "      <td>16</td>\n",
       "      <td>5</td>\n",
       "      <td>38.825898</td>\n",
       "      <td>0</td>\n",
       "    </tr>\n",
       "    <tr>\n",
       "      <td>2</td>\n",
       "      <td>k403</td>\n",
       "      <td>Ramicane</td>\n",
       "      <td>Male</td>\n",
       "      <td>21</td>\n",
       "      <td>16</td>\n",
       "      <td>10</td>\n",
       "      <td>35.014271</td>\n",
       "      <td>1</td>\n",
       "    </tr>\n",
       "    <tr>\n",
       "      <td>3</td>\n",
       "      <td>k403</td>\n",
       "      <td>Ramicane</td>\n",
       "      <td>Male</td>\n",
       "      <td>21</td>\n",
       "      <td>16</td>\n",
       "      <td>15</td>\n",
       "      <td>34.223992</td>\n",
       "      <td>1</td>\n",
       "    </tr>\n",
       "    <tr>\n",
       "      <td>4</td>\n",
       "      <td>k403</td>\n",
       "      <td>Ramicane</td>\n",
       "      <td>Male</td>\n",
       "      <td>21</td>\n",
       "      <td>16</td>\n",
       "      <td>20</td>\n",
       "      <td>32.997729</td>\n",
       "      <td>1</td>\n",
       "    </tr>\n",
       "  </tbody>\n",
       "</table>\n",
       "</div>"
      ],
      "text/plain": [
       "  Mouse ID Drug Regimen   Sex  Age_months  Weight (g)  Timepoint  \\\n",
       "0     k403     Ramicane  Male          21          16          0   \n",
       "1     k403     Ramicane  Male          21          16          5   \n",
       "2     k403     Ramicane  Male          21          16         10   \n",
       "3     k403     Ramicane  Male          21          16         15   \n",
       "4     k403     Ramicane  Male          21          16         20   \n",
       "\n",
       "   Tumor Volume (mm3)  Metastatic Sites  \n",
       "0           45.000000                 0  \n",
       "1           38.825898                 0  \n",
       "2           35.014271                 1  \n",
       "3           34.223992                 1  \n",
       "4           32.997729                 1  "
      ]
     },
     "execution_count": 1,
     "metadata": {},
     "output_type": "execute_result"
    }
   ],
   "source": [
    "# Dependencies and Setup\n",
    "import matplotlib.pyplot as plt\n",
    "import pandas as pd\n",
    "import scipy.stats as st\n",
    "import numpy as np\n",
    "import matplotlib.axes as ax\n",
    "\n",
    "# Study data files\n",
    "mouse_metadata = \"data/Mouse_metadata.csv\"\n",
    "study_results = \"data/Study_results.csv\"\n",
    "\n",
    "# Read the mouse data and the study results\n",
    "mouse_metadata = pd.read_csv(mouse_metadata)\n",
    "study_results = pd.read_csv(study_results)\n",
    "\n",
    "# Combine the data into a single dataset\n",
    "mouse_all = pd.merge(mouse_metadata, study_results,\n",
    "                    how = 'left', on = 'Mouse ID')\n",
    "mouse_all.head()"
   ]
  },
  {
   "cell_type": "markdown",
   "metadata": {},
   "source": [
    "## Summary statistics"
   ]
  },
  {
   "cell_type": "code",
   "execution_count": 2,
   "metadata": {},
   "outputs": [
    {
     "data": {
      "text/html": [
       "<div>\n",
       "<style scoped>\n",
       "    .dataframe tbody tr th:only-of-type {\n",
       "        vertical-align: middle;\n",
       "    }\n",
       "\n",
       "    .dataframe tbody tr th {\n",
       "        vertical-align: top;\n",
       "    }\n",
       "\n",
       "    .dataframe thead th {\n",
       "        text-align: right;\n",
       "    }\n",
       "</style>\n",
       "<table border=\"1\" class=\"dataframe\">\n",
       "  <thead>\n",
       "    <tr style=\"text-align: right;\">\n",
       "      <th></th>\n",
       "      <th>Drug Regimen</th>\n",
       "      <th>Frequency</th>\n",
       "      <th>Mean</th>\n",
       "      <th>Median</th>\n",
       "      <th>Variance</th>\n",
       "      <th>Standard Deviation</th>\n",
       "      <th>SEM</th>\n",
       "    </tr>\n",
       "  </thead>\n",
       "  <tbody>\n",
       "    <tr>\n",
       "      <td>0</td>\n",
       "      <td>Capomulin</td>\n",
       "      <td>230</td>\n",
       "      <td>40.675741</td>\n",
       "      <td>41.557809</td>\n",
       "      <td>24.947764</td>\n",
       "      <td>4.994774</td>\n",
       "      <td>0.329346</td>\n",
       "    </tr>\n",
       "    <tr>\n",
       "      <td>1</td>\n",
       "      <td>Ceftamin</td>\n",
       "      <td>178</td>\n",
       "      <td>52.591172</td>\n",
       "      <td>51.776157</td>\n",
       "      <td>39.290177</td>\n",
       "      <td>6.268188</td>\n",
       "      <td>0.469821</td>\n",
       "    </tr>\n",
       "    <tr>\n",
       "      <td>2</td>\n",
       "      <td>Infubinol</td>\n",
       "      <td>178</td>\n",
       "      <td>52.884795</td>\n",
       "      <td>51.820584</td>\n",
       "      <td>43.128684</td>\n",
       "      <td>6.567243</td>\n",
       "      <td>0.492236</td>\n",
       "    </tr>\n",
       "    <tr>\n",
       "      <td>3</td>\n",
       "      <td>Ketapril</td>\n",
       "      <td>188</td>\n",
       "      <td>55.235638</td>\n",
       "      <td>53.698743</td>\n",
       "      <td>68.553577</td>\n",
       "      <td>8.279709</td>\n",
       "      <td>0.603860</td>\n",
       "    </tr>\n",
       "    <tr>\n",
       "      <td>4</td>\n",
       "      <td>Naftisol</td>\n",
       "      <td>186</td>\n",
       "      <td>54.331565</td>\n",
       "      <td>52.509285</td>\n",
       "      <td>66.173479</td>\n",
       "      <td>8.134708</td>\n",
       "      <td>0.596466</td>\n",
       "    </tr>\n",
       "    <tr>\n",
       "      <td>5</td>\n",
       "      <td>Placebo</td>\n",
       "      <td>181</td>\n",
       "      <td>54.033581</td>\n",
       "      <td>52.288934</td>\n",
       "      <td>61.168083</td>\n",
       "      <td>7.821003</td>\n",
       "      <td>0.581331</td>\n",
       "    </tr>\n",
       "    <tr>\n",
       "      <td>6</td>\n",
       "      <td>Propriva</td>\n",
       "      <td>161</td>\n",
       "      <td>52.322552</td>\n",
       "      <td>50.854632</td>\n",
       "      <td>42.351070</td>\n",
       "      <td>6.507770</td>\n",
       "      <td>0.512884</td>\n",
       "    </tr>\n",
       "    <tr>\n",
       "      <td>7</td>\n",
       "      <td>Ramicane</td>\n",
       "      <td>228</td>\n",
       "      <td>40.216745</td>\n",
       "      <td>40.673236</td>\n",
       "      <td>23.486704</td>\n",
       "      <td>4.846308</td>\n",
       "      <td>0.320955</td>\n",
       "    </tr>\n",
       "    <tr>\n",
       "      <td>8</td>\n",
       "      <td>Stelasyn</td>\n",
       "      <td>181</td>\n",
       "      <td>54.233149</td>\n",
       "      <td>52.431737</td>\n",
       "      <td>59.450562</td>\n",
       "      <td>7.710419</td>\n",
       "      <td>0.573111</td>\n",
       "    </tr>\n",
       "    <tr>\n",
       "      <td>9</td>\n",
       "      <td>Zoniferol</td>\n",
       "      <td>182</td>\n",
       "      <td>53.236507</td>\n",
       "      <td>51.818479</td>\n",
       "      <td>48.533355</td>\n",
       "      <td>6.966589</td>\n",
       "      <td>0.516398</td>\n",
       "    </tr>\n",
       "  </tbody>\n",
       "</table>\n",
       "</div>"
      ],
      "text/plain": [
       "  Drug Regimen  Frequency       Mean     Median   Variance  \\\n",
       "0    Capomulin        230  40.675741  41.557809  24.947764   \n",
       "1     Ceftamin        178  52.591172  51.776157  39.290177   \n",
       "2    Infubinol        178  52.884795  51.820584  43.128684   \n",
       "3     Ketapril        188  55.235638  53.698743  68.553577   \n",
       "4     Naftisol        186  54.331565  52.509285  66.173479   \n",
       "5      Placebo        181  54.033581  52.288934  61.168083   \n",
       "6     Propriva        161  52.322552  50.854632  42.351070   \n",
       "7     Ramicane        228  40.216745  40.673236  23.486704   \n",
       "8     Stelasyn        181  54.233149  52.431737  59.450562   \n",
       "9    Zoniferol        182  53.236507  51.818479  48.533355   \n",
       "\n",
       "   Standard Deviation       SEM  \n",
       "0            4.994774  0.329346  \n",
       "1            6.268188  0.469821  \n",
       "2            6.567243  0.492236  \n",
       "3            8.279709  0.603860  \n",
       "4            8.134708  0.596466  \n",
       "5            7.821003  0.581331  \n",
       "6            6.507770  0.512884  \n",
       "7            4.846308  0.320955  \n",
       "8            7.710419  0.573111  \n",
       "9            6.966589  0.516398  "
      ]
     },
     "execution_count": 2,
     "metadata": {},
     "output_type": "execute_result"
    }
   ],
   "source": [
    "# Generate a summary statistics table of mean, median, variance, standard deviation, and SEM of the tumor volume for each regimen\n",
    "grpBy = mouse_all.groupby('Drug Regimen')\n",
    "\n",
    "summary = pd.DataFrame({'Frequency': grpBy['Sex'].count(),\n",
    "                        'Mean': grpBy['Tumor Volume (mm3)'].mean(),\n",
    "                        'Median': grpBy['Tumor Volume (mm3)'].median(),\n",
    "                        'Variance': grpBy['Tumor Volume (mm3)'].var(),\n",
    "                        'Standard Deviation': grpBy['Tumor Volume (mm3)'].std(),\n",
    "                        'SEM': grpBy['Tumor Volume (mm3)'].sem()})\n",
    "\n",
    "\n",
    "\n",
    "summary = summary.reset_index()\n",
    "summary"
   ]
  },
  {
   "cell_type": "markdown",
   "metadata": {},
   "source": [
    "## Bar plots"
   ]
  },
  {
   "cell_type": "code",
   "execution_count": 3,
   "metadata": {},
   "outputs": [
    {
     "data": {
      "text/plain": [
       "Text(0, 0.5, 'Count')"
      ]
     },
     "execution_count": 3,
     "metadata": {},
     "output_type": "execute_result"
    },
    {
     "data": {
      "image/png": "[encoded data removed]",
      "text/plain": [
       "<Figure size 432x288 with 1 Axes>"
      ]
     },
     "metadata": {
      "needs_background": "light"
     },
     "output_type": "display_data"
    }
   ],
   "source": [
    "# Generate a bar plot showing number of data points for each treatment regimen using pandas\n",
    "reg_freq = summary[['Drug Regimen','Frequency']]\n",
    "\n",
    "reg_freq = reg_freq.sort_values('Frequency', ascending = False).set_index('Drug Regimen')\n",
    "\n",
    "reg_freq.plot(kind = 'bar', color = 'pink')\n",
    "\n",
    "\n",
    "plt.title(\"Frequency of Drug Regimen\")\n",
    "plt.xlabel('Drug Regimen')\n",
    "plt.ylabel('Count')"
   ]
  },
  {
   "cell_type": "code",
   "execution_count": 4,
   "metadata": {},
   "outputs": [
    {
     "data": {
      "image/png": "[encoded data removed]",
      "text/plain": [
       "<Figure size 432x288 with 1 Axes>"
      ]
     },
     "metadata": {
      "needs_background": "light"
     },
     "output_type": "display_data"
    }
   ],
   "source": [
    "# Generate a bar plot showing number of data points for each treatment regimen using pyplot\n",
    "\n",
    "x_axis = np.arange(len(summary['Frequency']))\n",
    "tick_locations = [value for value in x_axis]\n",
    "\n",
    "\n",
    "plt.bar(x_axis,summary['Frequency'].sort_values(ascending = False), color = 'pink', align = 'center')\n",
    "plt.xticks(tick_locations,summary['Drug Regimen'], rotation = 'vertical')\n",
    "\n",
    "\n",
    "plt.title(\"Frequency of Drug Regimen\")\n",
    "plt.xlabel('Drug Regimen')\n",
    "plt.ylabel('Count')\n",
    "\n",
    "\n",
    "plt.show()"
   ]
  },
  {
   "cell_type": "markdown",
   "metadata": {},
   "source": [
    "## Pie plots"
   ]
  },
  {
   "cell_type": "code",
   "execution_count": 5,
   "metadata": {},
   "outputs": [
    {
     "data": {
      "text/plain": [
       "array([<matplotlib.axes._subplots.AxesSubplot object at 0x000002AD978DC2C8>],\n",
       "      dtype=object)"
      ]
     },
     "execution_count": 5,
     "metadata": {},
     "output_type": "execute_result"
    },
    {
     "data": {
      "image/png": "[encoded data removed]",
      "text/plain": [
       "<Figure size 432x288 with 1 Axes>"
      ]
     },
     "metadata": {},
     "output_type": "display_data"
    }
   ],
   "source": [
    "# Generate a pie plot showing the distribution of female versus male mice using pandas\n",
    "\n",
    "df = mouse_all[['Sex','Mouse ID']].groupby('Sex').count().rename(columns ={'Mouse ID':'Gender Counts'})\n",
    "\n",
    "colors = ['pink','blue']\n",
    "x_axis\n",
    "df.plot(kind = 'pie', subplots = True, autopct = '%1.1f%%', title = 'Gender Distribution ',colors = colors)\n"
   ]
  },
  {
   "cell_type": "code",
   "execution_count": 6,
   "metadata": {},
   "outputs": [
    {
     "data": {
      "image/png": "[encoded data removed]",
      "text/plain": [
       "<Figure size 432x288 with 1 Axes>"
      ]
     },
     "metadata": {},
     "output_type": "display_data"
    }
   ],
   "source": [
    "# Generate a pie plot showing the distribution of female versus male mice using pyplot\n",
    "\n",
    "df = mouse_all[['Sex','Mouse ID']].groupby('Sex').count().rename(columns ={'Mouse ID': 'Gender'})\n",
    "labels = ['Female','Male']\n",
    "\n",
    "colors = ['pink','blue']\n",
    "\n",
    "plt.pie(df['Gender'], labels = labels, autopct = '%1.1f%%',colors = colors)\n",
    "plt.title('Gender Distribution')\n",
    "plt.show()"
   ]
  },
  {
   "cell_type": "markdown",
   "metadata": {},
   "source": [
    "## Quartiles, outliers and boxplots"
   ]
  },
  {
   "cell_type": "code",
   "execution_count": 7,
   "metadata": {},
   "outputs": [
    {
     "data": {
      "text/html": [
       "<div>\n",
       "<style scoped>\n",
       "    .dataframe tbody tr th:only-of-type {\n",
       "        vertical-align: middle;\n",
       "    }\n",
       "\n",
       "    .dataframe tbody tr th {\n",
       "        vertical-align: top;\n",
       "    }\n",
       "\n",
       "    .dataframe thead th {\n",
       "        text-align: right;\n",
       "    }\n",
       "</style>\n",
       "<table border=\"1\" class=\"dataframe\">\n",
       "  <thead>\n",
       "    <tr style=\"text-align: right;\">\n",
       "      <th></th>\n",
       "      <th>Tumor Volume (mm3)</th>\n",
       "      <th>Q1</th>\n",
       "      <th>Q2</th>\n",
       "      <th>Q3</th>\n",
       "      <th>IQR</th>\n",
       "      <th>Lower Bound</th>\n",
       "      <th>Upper Bound</th>\n",
       "    </tr>\n",
       "    <tr>\n",
       "      <th>Drug Regimen</th>\n",
       "      <th></th>\n",
       "      <th></th>\n",
       "      <th></th>\n",
       "      <th></th>\n",
       "      <th></th>\n",
       "      <th></th>\n",
       "      <th></th>\n",
       "    </tr>\n",
       "  </thead>\n",
       "  <tbody>\n",
       "    <tr>\n",
       "      <td>Ramicane</td>\n",
       "      <td>22.050126</td>\n",
       "      <td>31.560470</td>\n",
       "      <td>36.561652</td>\n",
       "      <td>40.659006</td>\n",
       "      <td>9.098537</td>\n",
       "      <td>17.912664</td>\n",
       "      <td>54.306811</td>\n",
       "    </tr>\n",
       "    <tr>\n",
       "      <td>Capomulin</td>\n",
       "      <td>23.343598</td>\n",
       "      <td>32.377357</td>\n",
       "      <td>38.125164</td>\n",
       "      <td>40.159220</td>\n",
       "      <td>7.781863</td>\n",
       "      <td>20.704562</td>\n",
       "      <td>51.832015</td>\n",
       "    </tr>\n",
       "    <tr>\n",
       "      <td>Infubinol</td>\n",
       "      <td>36.321346</td>\n",
       "      <td>54.048608</td>\n",
       "      <td>60.165180</td>\n",
       "      <td>65.525743</td>\n",
       "      <td>11.477135</td>\n",
       "      <td>36.832905</td>\n",
       "      <td>82.741446</td>\n",
       "    </tr>\n",
       "    <tr>\n",
       "      <td>Ceftamin</td>\n",
       "      <td>45.000000</td>\n",
       "      <td>48.722078</td>\n",
       "      <td>59.851956</td>\n",
       "      <td>64.299830</td>\n",
       "      <td>15.577752</td>\n",
       "      <td>25.355450</td>\n",
       "      <td>87.666458</td>\n",
       "    </tr>\n",
       "  </tbody>\n",
       "</table>\n",
       "</div>"
      ],
      "text/plain": [
       "              Tumor Volume (mm3)         Q1         Q2         Q3        IQR  \\\n",
       "Drug Regimen                                                                   \n",
       "Ramicane               22.050126  31.560470  36.561652  40.659006   9.098537   \n",
       "Capomulin              23.343598  32.377357  38.125164  40.159220   7.781863   \n",
       "Infubinol              36.321346  54.048608  60.165180  65.525743  11.477135   \n",
       "Ceftamin               45.000000  48.722078  59.851956  64.299830  15.577752   \n",
       "\n",
       "              Lower Bound  Upper Bound  \n",
       "Drug Regimen                            \n",
       "Ramicane        17.912664    54.306811  \n",
       "Capomulin       20.704562    51.832015  \n",
       "Infubinol       36.832905    82.741446  \n",
       "Ceftamin        25.355450    87.666458  "
      ]
     },
     "execution_count": 7,
     "metadata": {},
     "output_type": "execute_result"
    }
   ],
   "source": [
    "# Calculate the final tumor volume of each mouse across four of the most promising treatment regimens. Calculate the IQR and quantitatively determine if there are any potential outliers.\n",
    "\n",
    "#getting final tumor date by mouse\n",
    "time_point_final_tumor = mouse_all[['Mouse ID','Timepoint']].groupby('Mouse ID').max().reset_index()\n",
    "\n",
    "\n",
    "#merging back original data to get tumor size by joining on timepoint\n",
    "time_point_mice = pd.merge(time_point_final_tumor, mouse_all,\n",
    "                    how = 'left', on = ['Mouse ID','Timepoint']).rename(columns = {'Timepoint_x':'Final Timepoint'})\n",
    "\n",
    "#grouping by drug regimen\n",
    "grpby2= time_point_mice[['Drug Regimen','Tumor Volume (mm3)']].groupby('Drug Regimen')\n",
    "\n",
    "#creating DF of quantiles\n",
    "Quantiles = pd.DataFrame({'Q1': grpby2['Tumor Volume (mm3)'].quantile(q = .25),\n",
    "                         'Q2': grpby2['Tumor Volume (mm3)'].quantile(q = .5),\n",
    "                         'Q3': grpby2['Tumor Volume (mm3)'].quantile(q = .75)}).reset_index()\n",
    "\n",
    "#manually calculating IQR\n",
    "Quantiles['IQR'] = Quantiles['Q3'] - Quantiles['Q1']\n",
    "\n",
    "#calculating upper/lower bound\n",
    "Quantiles['Lower Bound'] = Quantiles['Q1'] - Quantiles['IQR']*1.5\n",
    "Quantiles['Upper Bound'] = Quantiles['Q3'] + Quantiles['IQR']*1.5\n",
    "\n",
    "#sorting by smallest value to get best 4 drugs\n",
    "best_drugs = time_point_mice.groupby('Drug Regimen')['Tumor Volume (mm3)'].min().sort_values().head(4)\n",
    "\n",
    "#reducing the quantiles table to the 4 best\n",
    "qbest = pd.merge(best_drugs, Quantiles,\n",
    "                how = 'left', on = 'Drug Regimen').set_index('Drug Regimen')\n",
    "\n",
    "\n",
    "qbest\n"
   ]
  },
  {
   "cell_type": "code",
   "execution_count": 8,
   "metadata": {},
   "outputs": [
    {
     "data": {
      "image/png": "[encoded data removed]",
      "text/plain": [
       "<Figure size 432x288 with 1 Axes>"
      ]
     },
     "metadata": {
      "needs_background": "light"
     },
     "output_type": "display_data"
    },
    {
     "name": "stdout",
     "output_type": "stream",
     "text": [
      "There is only one outlier of tumor volume, and it is for Infubinol\n"
     ]
    }
   ],
   "source": [
    "# Generate a box plot of the final tumor volume of each mouse across four regimens of interest\n",
    "\n",
    "#getting data by drug type for box plots\n",
    "ramicane = time_point_mice.loc[time_point_mice['Drug Regimen'] == 'Ramicane']['Tumor Volume (mm3)']\n",
    "capomulin = time_point_mice.loc[time_point_mice['Drug Regimen'] == 'Capomulin']['Tumor Volume (mm3)']\n",
    "infubinol = time_point_mice.loc[time_point_mice['Drug Regimen'] == 'Infubinol']['Tumor Volume (mm3)']\n",
    "ceftamin = time_point_mice.loc[time_point_mice['Drug Regimen'] == 'Ceftamin']['Tumor Volume (mm3)']\n",
    "\n",
    "\n",
    "fig = plt.figure()\n",
    "ax = fig.add_subplot(111)\n",
    "\n",
    "ax.set_title('Box Plot of Best Drug Regimen')\n",
    "ax.set_ylabel('Ending Tumor Volume')\n",
    "\n",
    "ax.boxplot([capomulin,ramicane,infubinol,ceftamin])\n",
    "ax.set_xticklabels(['Ramicane','Capomulin','Infubinol','Ceftamin'])\n",
    "\n",
    "plt.show()\n",
    "print('There is only one outlier of tumor volume, and it is for Infubinol')"
   ]
  },
  {
   "cell_type": "markdown",
   "metadata": {},
   "source": [
    "## Line and scatter plots"
   ]
  },
  {
   "cell_type": "code",
   "execution_count": 9,
   "metadata": {},
   "outputs": [
    {
     "name": "stdout",
     "output_type": "stream",
     "text": [
      "As time goes on, the tumor size decreases\n"
     ]
    },
    {
     "data": {
      "image/png": "[encoded data removed]",
      "text/plain": [
       "<Figure size 432x288 with 1 Axes>"
      ]
     },
     "metadata": {
      "needs_background": "light"
     },
     "output_type": "display_data"
    }
   ],
   "source": [
    "# Generate a line plot of time point versus tumor volume for a mouse treated with Capomulin\n",
    "\n",
    "mouse = mouse_all.loc[mouse_all['Mouse ID'] == 'k403',['Timepoint','Tumor Volume (mm3)']].set_index('Timepoint')\n",
    "\n",
    "plt.xlabel('Time')\n",
    "plt.ylabel('Tumor Size')\n",
    "plt.title('Size of Tumor of Mouse ID k403')\n",
    "plt.plot(mouse)\n",
    "print('As time goes on, the tumor size decreases')"
   ]
  },
  {
   "cell_type": "code",
   "execution_count": 10,
   "metadata": {},
   "outputs": [
    {
     "data": {
      "image/png": "[encoded data removed]",
      "text/plain": [
       "<Figure size 432x288 with 1 Axes>"
      ]
     },
     "metadata": {
      "needs_background": "light"
     },
     "output_type": "display_data"
    }
   ],
   "source": [
    "# Generate a scatter plot of mouse weight versus average tumor volume for the Capomulin regimen\n",
    "\n",
    "#getting all mice that had Capomulin\n",
    "coup_mice = mouse_all.loc[mouse_all['Drug Regimen'] == 'Capomulin',['Timepoint','Tumor Volume (mm3)','Mouse ID','Weight (g)']]\n",
    "\n",
    "#grouping Capomulin mice by time, calculating average tumor size\n",
    "tumor_size = coup_mice[['Mouse ID','Tumor Volume (mm3)','Weight (g)']].groupby('Mouse ID').mean().reset_index()\n",
    "\n",
    "\n",
    "#creating figure for double axes\n",
    "fig, ax = plt.subplots()\n",
    "\n",
    "\n",
    "#plot labels\n",
    "plt.title('Average size of Tumor for Capomulin Mice')\n",
    "ax.set_xlabel('Time')\n",
    "ax.set_ylabel('Tumor Size')\n",
    "\n",
    "#setting first scatter plot of tumor size over time\n",
    "ax.scatter(tumor_size['Weight (g)'], tumor_size['Tumor Volume (mm3)'], marker = 'o',color = 'blue')\n",
    "\n",
    "#showing plot\n",
    "plt.show()"
   ]
  },
  {
   "cell_type": "code",
   "execution_count": 16,
   "metadata": {},
   "outputs": [
    {
     "name": "stdout",
     "output_type": "stream",
     "text": [
      "The linear equation looks at the mouse final tumor size\n",
      "using the mouse starting weight as the predictor\n",
      "\n",
      "The pearson correlation coefficent is 0.84\n",
      "To compare, the r squared value is 0.84\n",
      "The linear regression model is:\n",
      "estimated tumor size = 21.55 + 0.95x + e\n",
      "the p-value of our coefficient is 0.0\n"
     ]
    },
    {
     "data": {
      "image/png": "[encoded data removed]",
      "text/plain": [
       "<Figure size 432x288 with 1 Axes>"
      ]
     },
     "metadata": {
      "needs_background": "light"
     },
     "output_type": "display_data"
    }
   ],
   "source": [
    "\n",
    "# Calculate the correlation coefficient and linear regression model for mouse weight and average tumor volume for the Capomulin regimen\n",
    "# y = ending_tumor_size['Tumor Volume (mm3)']\n",
    "y = tumor_size['Tumor Volume (mm3)']\n",
    "\n",
    "# x = starting_weight['Weight (g)']\n",
    "x = tumor_size['Weight (g)']\n",
    "\n",
    "#pearson correlation coefficient\n",
    "pearson = st.pearsonr(x,y)\n",
    "pearson = round(pearson[0],2)\n",
    "\n",
    "#regression\n",
    "slope,intercept, r_value, p_value, std_err = st.linregress(x,y)\n",
    "\n",
    "#checking r square value against pearson coefficient\n",
    "r = round(r_value,2)\n",
    "slope = round(slope,2)\n",
    "intercept = round(intercept,2)\n",
    "p_value = round(p_value,4)\n",
    "\n",
    "#creating text for equation for graph\n",
    "line_eq = \"y = \" + str(slope) + \"x +\"+ str(intercept) + ' + e'\n",
    "\n",
    "#creating regression values for best fit line\n",
    "regress_values = x*slope + intercept\n",
    "\n",
    "#creating scatter plot\n",
    "plt.scatter(x,y)\n",
    "\n",
    "#creating line of best fit and where to put line equation\n",
    "plt.plot(x,regress_values,'r-')\n",
    "plt.annotate(line_eq,(20,30))\n",
    "\n",
    "#creating titles and labels\n",
    "plt.title('Final Tumor Volume by Starting Mouse Weight')\n",
    "plt.xlabel('Mouse Starting Weight')\n",
    "plt.ylabel('Mouse Final Tumor Size')\n",
    "\n",
    "print('The linear equation looks at the mouse final tumor size')\n",
    "print('using the mouse starting weight as the predictor')\n",
    "print()\n",
    "print(\"The pearson correlation coefficent is \" + str(pearson))\n",
    "print(\"To compare, the r squared value is \" + str(r))\n",
    "print(\"The linear regression model is:\")\n",
    "print(\"estimated tumor size = \" + str(intercept)+' + '+str(slope) + 'x + e')\n",
    "print('the p-value of our coefficient is ' + str(p_value))"
   ]
  },
  {
   "cell_type": "code",
   "execution_count": 19,
   "metadata": {},
   "outputs": [
    {
     "name": "stdout",
     "output_type": "stream",
     "text": [
      "We can see from the coefficient of x, that as the starting mouse\n",
      "weight increases by one gram, we see an increase in final tumor size of .95 mm\n",
      "due to the high r square value, we can tell that our model fits the data points well\n",
      "-------------------------------------------------------------------------------------\n",
      "Our p-value of our coefficient is 0, meaning that there is 99.999% probability\n",
      "that our coefficient of x would be in the sample\n",
      "-------------------------------------------------------------------------------------\n",
      "Lastly, we see with the Capomulin Mice, that there was a large decrease in tumor size\n",
      "over time\n"
     ]
    }
   ],
   "source": [
    "print('We can see from the coefficient of x, that as the starting mouse')\n",
    "print('weight increases by one gram, we see an increase in final tumor size of .95 mm')\n",
    "print('due to the high r square value, we can tell that our model fits the data points well')\n",
    "print('-------------------------------------------------------------------------------------')\n",
    "print('Our p-value of our coefficient is 0, meaning that there is 99.999% probability')\n",
    "print('that our coefficient of x would be in the sample')\n",
    "print('-------------------------------------------------------------------------------------')\n",
    "print('Lastly, we see with the Capomulin Mice, that there was a large decrease in tumor size')\n",
    "print('over time')"
   ]
  }
 ],
 "metadata": {
  "anaconda-cloud": {},
  "kernelspec": {
   "display_name": "Python 3",
   "language": "python",
   "name": "python3"
  },
  "language_info": {
   "codemirror_mode": {
    "name": "ipython",
    "version": 3
   },
   "file_extension": ".py",
   "mimetype": "text/x-python",
   "name": "python",
   "nbconvert_exporter": "python",
   "pygments_lexer": "ipython3",
   "version": "3.7.4"
  }
 },
 "nbformat": 4,
 "nbformat_minor": 2
}
